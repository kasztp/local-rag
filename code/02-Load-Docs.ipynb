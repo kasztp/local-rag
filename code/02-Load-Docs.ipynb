{
 "cells": [
  {
   "cell_type": "markdown",
   "id": "2a74231c-df99-461f-8cdc-ea17f808d717",
   "metadata": {},
   "source": [
    "# Index Documents\n",
    "To chat with your data, you have to first index your documents. \n",
    "\n",
    "Place files in the `data/documents` directory of this project or create host mounts into `/mnt/docs/` using AI Workbench. You can mount multiple directories into `/mnt/docs/` and they will all be indexed. Text files and PDFs work well.\n",
    "\n",
    "When you run the cell below documents will be hashed and processed. Documents that have already been processed will be skipped. Note, this process can a while.\n",
    "\n",
    "**Any time you add more documents or you want to refresh the index, you should come back and run this cell**"
   ]
  },
  {
   "cell_type": "code",
   "execution_count": null,
   "id": "1cb4582d-ddcc-47e5-b45c-7ec24bada8d8",
   "metadata": {},
   "outputs": [],
   "source": [
    "from helpers.docs import DocProcessor\n",
    "\n",
    "p = DocProcessor(\"../data/documents\", \"/mnt/docs\", \"http://localhost:8000/uploadDocument\", False)\n",
    "p.process()            "
   ]
  },
  {
   "cell_type": "code",
   "execution_count": null,
   "id": "9de97c76-b528-4150-a89e-7f7951ad5545",
   "metadata": {},
   "outputs": [],
   "source": []
  }
 ],
 "metadata": {
  "kernelspec": {
   "display_name": "Python 3 (ipykernel)",
   "language": "python",
   "name": "python3"
  },
  "language_info": {
   "codemirror_mode": {
    "name": "ipython",
    "version": 3
   },
   "file_extension": ".py",
   "mimetype": "text/x-python",
   "name": "python",
   "nbconvert_exporter": "python",
   "pygments_lexer": "ipython3",
   "version": "3.9.18"
  }
 },
 "nbformat": 4,
 "nbformat_minor": 5
}
